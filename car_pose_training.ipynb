{
  "nbformat": 4,
  "nbformat_minor": 0,
  "metadata": {
    "colab": {
      "provenance": [],
      "gpuType": "T4",
      "authorship_tag": "ABX9TyPc/QIQG+HN7lcQrpM/tpgl",
      "include_colab_link": true
    },
    "kernelspec": {
      "name": "python3",
      "display_name": "Python 3"
    },
    "language_info": {
      "name": "python"
    },
    "accelerator": "GPU"
  },
  "cells": [
    {
      "cell_type": "markdown",
      "metadata": {
        "id": "view-in-github",
        "colab_type": "text"
      },
      "source": [
        "<a href=\"https://colab.research.google.com/github/Habib0905/Vehicle-Pose-Estimation/blob/main/car_pose_training.ipynb\" target=\"_parent\"><img src=\"https://colab.research.google.com/assets/colab-badge.svg\" alt=\"Open In Colab\"/></a>"
      ]
    },
    {
      "cell_type": "markdown",
      "source": [
        "Installing Ultralytics"
      ],
      "metadata": {
        "id": "j_MhbjusUe9h"
      }
    },
    {
      "cell_type": "code",
      "source": [
        "!pip install ultralytics"
      ],
      "metadata": {
        "id": "EJ8cqEgFfSzz"
      },
      "execution_count": null,
      "outputs": []
    },
    {
      "cell_type": "markdown",
      "source": [
        "Mounting Google Drive"
      ],
      "metadata": {
        "id": "ZU2AkiiFUh_-"
      }
    },
    {
      "cell_type": "code",
      "source": [
        "from google.colab import drive\n",
        "drive.mount('/content/gdrive')"
      ],
      "metadata": {
        "id": "k1zW2laYe5hq"
      },
      "execution_count": null,
      "outputs": []
    },
    {
      "cell_type": "markdown",
      "source": [
        "Training"
      ],
      "metadata": {
        "id": "OKnA44hJUrre"
      }
    },
    {
      "cell_type": "code",
      "source": [
        "import os\n",
        "\n",
        "from ultralytics import YOLO\n",
        "\n",
        "model = YOLO('yolov8m-pose.pt')\n",
        "\n",
        "model.train(data = '/content/gdrive/My Drive/car_pose/config.yaml', cfg='/content/gdrive/MyDrive/car_pose/best_hyperparameters.yaml', epochs =100, imgsz = 640)"
      ],
      "metadata": {
        "id": "YZscwgNtlFlx"
      },
      "execution_count": null,
      "outputs": []
    },
    {
      "cell_type": "markdown",
      "source": [
        "Migrating the model and the result contents to Google Drive"
      ],
      "metadata": {
        "id": "r37hwa7yUwjf"
      }
    },
    {
      "cell_type": "code",
      "source": [
        "import shutil\n",
        "\n",
        "# Source directory\n",
        "source_dir = '/content/runs/pose/train'\n",
        "\n",
        "# Destination directory\n",
        "destination_dir = '/content/gdrive/My Drive/car_pose/runs'\n",
        "\n",
        "# Copy the contents of the source directory to the destination directory\n",
        "shutil.copytree(source_dir, destination_dir)\n"
      ],
      "metadata": {
        "id": "_NK23VNUI197"
      },
      "execution_count": null,
      "outputs": []
    }
  ]
}
