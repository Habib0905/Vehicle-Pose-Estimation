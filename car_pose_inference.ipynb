{
  "cells": [
    {
      "cell_type": "markdown",
      "metadata": {
        "id": "view-in-github",
        "colab_type": "text"
      },
      "source": [
        "<a href=\"https://colab.research.google.com/github/Habib0905/Vehicle-Pose-Estimation/blob/main/car_pose_inference.ipynb\" target=\"_parent\"><img src=\"https://colab.research.google.com/assets/colab-badge.svg\" alt=\"Open In Colab\"/></a>"
      ]
    },
    {
      "cell_type": "markdown",
      "source": [
        "Installing Ultralytics"
      ],
      "metadata": {
        "id": "NkXTwDs1SDIQ"
      }
    },
    {
      "cell_type": "code",
      "execution_count": null,
      "metadata": {
        "id": "T_XyuTz0aSaI",
        "collapsed": true
      },
      "outputs": [],
      "source": [
        "!pip install ultralytics"
      ]
    },
    {
      "cell_type": "markdown",
      "source": [
        "Importing Dependencies"
      ],
      "metadata": {
        "id": "8YDqVp54SKT4"
      }
    },
    {
      "cell_type": "code",
      "execution_count": 2,
      "metadata": {
        "id": "2QIIG91ZbBrH"
      },
      "outputs": [],
      "source": [
        "from ultralytics import YOLO\n",
        "import os\n",
        "from PIL import Image\n",
        "import cv2\n",
        "from google.colab.patches import cv2_imshow"
      ]
    },
    {
      "cell_type": "markdown",
      "source": [
        "Mounting Google Drive"
      ],
      "metadata": {
        "id": "QTdgWjAbSOZv"
      }
    },
    {
      "cell_type": "code",
      "execution_count": null,
      "metadata": {
        "id": "dhQWQZ15bOFG",
        "collapsed": true
      },
      "outputs": [],
      "source": [
        "from google.colab import drive\n",
        "drive.mount('/content/gdrive')"
      ]
    },
    {
      "cell_type": "markdown",
      "source": [
        "Inference with images"
      ],
      "metadata": {
        "id": "Bik5hjEjLkK7"
      }
    },
    {
      "cell_type": "code",
      "source": [
        "def pad_to_aspect_ratio(image, target_size=(384, 640)):\n",
        "    width, height = image.size\n",
        "    aspect_ratio = width / height\n",
        "\n",
        "    if aspect_ratio > 1:\n",
        "        new_width = target_size[0]\n",
        "        new_height = int(new_width / aspect_ratio)\n",
        "    else:\n",
        "        new_height = target_size[1]\n",
        "        new_width = int(new_height * aspect_ratio)\n",
        "\n",
        "    resized_image = image.resize((new_width, new_height), Image.ANTIALIAS)\n",
        "    padded_image = Image.new(\"RGB\", target_size, (128, 128, 128))\n",
        "    padded_image.paste(resized_image, ((target_size[0] - new_width) // 2, (target_size[1] - new_height) // 2))\n",
        "\n",
        "    return padded_image\n",
        "\n",
        "def process_images_in_folder(folder_path, model_path):\n",
        "    model = YOLO(model_path)\n",
        "    for filename in os.listdir(folder_path):\n",
        "        if filename.lower().endswith(('.png', '.jpg', '.jpeg')):\n",
        "            image_path = os.path.join(folder_path, filename)\n",
        "            image = Image.open(image_path)\n",
        "            padded_image = pad_to_aspect_ratio(image)\n",
        "\n",
        "            # Save the padded image to Colab session storage\n",
        "            temp_image_path = '/content/temp_padded_image.jpg'\n",
        "            padded_image.save(temp_image_path)\n",
        "\n",
        "            img = cv2.imread(temp_image_path)\n",
        "            results = model(temp_image_path)[0]\n",
        "\n",
        "            for result in results:\n",
        "                bbox = result.boxes.xyxy[0].tolist()\n",
        "\n",
        "                for kpt in result.keypoints.data[0].tolist():\n",
        "                    x, y = int(kpt[0]), int(kpt[1])\n",
        "                    cv2.circle(img, (x, y), radius=3, color=(0, 255, 0), thickness=-1)\n",
        "\n",
        "            # Display the image with keypoints\n",
        "            cv2_imshow(img)\n",
        "            cv2.waitKey(0)\n",
        "            cv2.destroyAllWindows()\n",
        "\n",
        "            # Remove the temporary padded image\n",
        "            os.remove(temp_image_path)\n",
        "\n",
        "# Folder path for images to be inferred and model path\n",
        "folder_path = '/content/gdrive/My Drive/car_pose/My Car'\n",
        "model_path = '/content/gdrive/My Drive/car_pose/runs/pose/train2/weights/last.pt'\n",
        "process_images_in_folder(folder_path, model_path)\n"
      ],
      "metadata": {
        "collapsed": true,
        "id": "-zT2S2_iJ_G7"
      },
      "execution_count": null,
      "outputs": []
    },
    {
      "cell_type": "markdown",
      "source": [
        "Inference with video"
      ],
      "metadata": {
        "id": "Up1FjQVXM5RC"
      }
    },
    {
      "cell_type": "code",
      "source": [
        "source =  \"/content/gdrive/My Drive/car_pose/My Car/video3.MP4\"\n",
        "model_path = '/content/gdrive/My Drive/car_pose/runs/pose/train2/weights/last.pt'\n",
        "model = YOLO(model_path)\n",
        "model.predict(source, save = True, imgsz = 640, vid_stride = 1)"
      ],
      "metadata": {
        "id": "rTRuKZDeYJVy",
        "collapsed": true
      },
      "execution_count": null,
      "outputs": []
    },
    {
      "cell_type": "markdown",
      "source": [
        "Model Validation (Metrics)"
      ],
      "metadata": {
        "id": "FaI_2UPmRqSV"
      }
    },
    {
      "cell_type": "code",
      "source": [
        "model_path = '/content/gdrive/My Drive/car_pose/runs/pose/train2/weights/last.pt'\n",
        "model = YOLO(model_path)  # loading the custom model\n",
        "metrics = model.val()\n",
        "metrics.box.map  # map50-95\n",
        "metrics.box.map50  # map50\n",
        "metrics.box.map75  # map75\n",
        "metrics.box.maps  # a list contains map50-95 of each category\n"
      ],
      "metadata": {
        "id": "kRB0ACYKDG62",
        "collapsed": true
      },
      "execution_count": null,
      "outputs": []
    },
    {
      "cell_type": "code",
      "source": [
        "metrics.results_dict  # shows the results of different metrics"
      ],
      "metadata": {
        "id": "MXnC_NJBHWYs",
        "collapsed": true
      },
      "execution_count": null,
      "outputs": []
    },
    {
      "cell_type": "code",
      "source": [
        "metrics.speed  # speed metrics"
      ],
      "metadata": {
        "id": "t5iyr_MEJFQm",
        "collapsed": true
      },
      "execution_count": null,
      "outputs": []
    }
  ],
  "metadata": {
    "colab": {
      "provenance": [],
      "gpuType": "T4",
      "authorship_tag": "ABX9TyNG8bugmKJOOKwHbqPZX449",
      "include_colab_link": true
    },
    "kernelspec": {
      "display_name": "Python 3",
      "name": "python3"
    },
    "language_info": {
      "name": "python"
    },
    "accelerator": "GPU"
  },
  "nbformat": 4,
  "nbformat_minor": 0
}